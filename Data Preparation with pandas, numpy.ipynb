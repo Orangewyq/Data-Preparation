{
 "cells": [
  {
   "cell_type": "markdown",
   "id": "cc2bacdf-3d5c-4014-8360-ea49bca8f698",
   "metadata": {},
   "source": [
    "# Pandas Basics "
   ]
  },
  {
   "cell_type": "markdown",
   "id": "8f9627ff-4752-4db4-ab9f-2750a523009c",
   "metadata": {},
   "source": [
    "### Reading / Writing data"
   ]
  },
  {
   "cell_type": "code",
   "execution_count": null,
   "id": "5d0a3c8b-32c2-42ed-86b4-e3f45b8a4ff6",
   "metadata": {},
   "outputs": [],
   "source": [
    "import pandas as pd\n",
    "\n",
    "# Read data       \n",
    "df = pd.read_csv(\"file.csv\", delimiter = ';')             \n",
    "df = pd.read_excel(\"file.xlsx\", sheet_name = 'Sheet2') \n",
    "df = pd.read_json(\"file.json\")\n",
    "\n",
    "# Write Data\n",
    "df.to_csv(\"output.csv\", index = False)       "
   ]
  },
  {
   "cell_type": "markdown",
   "id": "c6ca724f-27d1-45d9-bb36-f157e3c33289",
   "metadata": {},
   "source": [
    "### Exploratory Data Analysis"
   ]
  },
  {
   "cell_type": "code",
   "execution_count": null,
   "id": "926ea646-1380-46f0-9cf7-3d09292d3c7c",
   "metadata": {},
   "outputs": [],
   "source": [
    "import pandas as pd\n",
    "import numpy as np\n",
    "import matplotlib.pylab as plt\n",
    "import seaborn as sn\n",
    "\n",
    "plt.style.use('ggplot')            # bonus: make plot nicer\n",
    "pd.set_option('max_columns', 200)  # expand the max columns displayed "
   ]
  },
  {
   "cell_type": "markdown",
   "id": "e12b0176-bf74-43ee-a882-c6a22ca422ac",
   "metadata": {},
   "source": [
    "### First look at the data"
   ]
  },
  {
   "cell_type": "code",
   "execution_count": null,
   "id": "25cc6e71-7ab9-4b47-9db5-033998b0690f",
   "metadata": {},
   "outputs": [],
   "source": [
    "df.shape    # (row, column) \n",
    "df.head()   # first 5 rows, set_option() can display more columns\n",
    "df.columns  # all column names\n",
    "df.dtypes   \n",
    "df.describe()  # descriptive statistics of the df"
   ]
  },
  {
   "cell_type": "markdown",
   "id": "1f23a75c-05d6-4751-96e2-7ee72a0047a0",
   "metadata": {},
   "source": [
    "### Data Cleaning"
   ]
  },
  {
   "cell_type": "code",
   "execution_count": null,
   "id": "bc65a246-ac11-4d68-96b8-70a5a6145bbd",
   "metadata": {},
   "outputs": [],
   "source": [
    "# 1) subset the datasets, \n",
    "df[[\"all columns you want to keep\"]]\n",
    "\n",
    "# 2) drop one column\n",
    "df.drop([\"you want to drop\"], axis=1)  # axis=1: drop a column, not a row. \n",
    "\n",
    "# 3) save a copy \n",
    "df.copy()"
   ]
  },
  {
   "cell_type": "code",
   "execution_count": null,
   "id": "fd7025ca-54b7-4e86-9699-ab7082b5da46",
   "metadata": {},
   "outputs": [],
   "source": [
    "# change data type\n",
    "df['date column'] = pd.to_datetime(df['date column'], format='%Y-%m-%d')\n",
    "df['date column'] = pd.to_numeric(df['date column'])"
   ]
  },
  {
   "cell_type": "code",
   "execution_count": null,
   "id": "5f2ac50c-ab42-4447-a655-2ddb3b72a4b7",
   "metadata": {},
   "outputs": [],
   "source": [
    "# rename the column, use dictionary\n",
    "df.rename(columns={'old_name1':'new_name1', 'old_name2': 'new_name2', 'old_name3': 'new_name3'})"
   ]
  },
  {
   "cell_type": "markdown",
   "id": "12fb3027-f47e-43f9-856b-5cb863877fc2",
   "metadata": {},
   "source": [
    "#### Check specific data details"
   ]
  },
  {
   "cell_type": "code",
   "execution_count": null,
   "id": "87b8bb2a-f401-4557-a88a-fae1cd8ffa7b",
   "metadata": {},
   "outputs": [],
   "source": [
    "# check na values\n",
    "df.isna()        # bool\n",
    "df.isna().sum()  # sum up the numbers\n",
    "\n",
    "# check duplicated values\n",
    "df.duplicated() \n",
    "df.duplicated(subset=['column1', 'column2', 'column3'])    # check the specific features\n",
    "df.loc[df.duplicated(['column1', 'column2', 'column3'])]   # get their locations\n",
    "### save a df without duplicated values\n",
    "df = df.loc[~df.duplicated(subset=['column1', 'column2', 'column3'])] \\\n",
    "     reset_index(drop=True)\n",
    "\n",
    "\n",
    "# check an example duplicate\n",
    "df.query('colunm == \"xxx\"')"
   ]
  },
  {
   "cell_type": "markdown",
   "id": "516bfb89-3320-4318-abc2-7c983d2bb28b",
   "metadata": {},
   "source": [
    "## Use Plots to Explore the Features "
   ]
  },
  {
   "cell_type": "code",
   "execution_count": null,
   "id": "71768eec-346e-411d-83eb-b86c3ae2c7df",
   "metadata": {},
   "outputs": [],
   "source": [
    "# Count how often each specific number occurs\n",
    "## normalize = True, for normalized frequency\n",
    "df['column1'].value_counts() "
   ]
  },
  {
   "cell_type": "code",
   "execution_count": null,
   "id": "fd63ad45-831c-4229-ba58-afd4698b88a3",
   "metadata": {},
   "outputs": [],
   "source": [
    "# Another method for Comparison\n",
    "df.groupby(['column1', 'column2']) "
   ]
  },
  {
   "cell_type": "code",
   "execution_count": null,
   "id": "9687b049-70fb-41b0-b436-b8941012c2cd",
   "metadata": {},
   "outputs": [],
   "source": [
    "# an exampl plot to sort out top ten most frequent values in a series\n",
    "ax = df['column1'].value_counts().head(10).plot(kind='bar', title = 'xxx')\n",
    "ax.setxlabel('column2')\n",
    "ax.setylabel('column3')"
   ]
  },
  {
   "cell_type": "code",
   "execution_count": null,
   "id": "5371da69-e1bb-4813-ad54-83a6287dec7b",
   "metadata": {},
   "outputs": [],
   "source": [
    "# an histogram example for one series distribution\n",
    "ax2 = df['column2'].plot(kind='hist', bin=20, title ='yyy')\n",
    "ax2 = setxlabel('column2')\n",
    "\n",
    "# for smooth distribution, use kind='kde'\n",
    "ax2 = df['column2'].plot(kind='kde', bin=20, title ='yyy')\n",
    "ax2 = setxlabel('column2')"
   ]
  },
  {
   "cell_type": "code",
   "execution_count": null,
   "id": "41cbd95c-dfaf-4489-9fd5-52eacc7f69b1",
   "metadata": {},
   "outputs": [],
   "source": [
    "# scatterplot, for a matplotlib project\n",
    "df.plot(kind ='scatter', x = 'column1', y = 'column2', title = 'zzz')\n",
    "plt.show()  # get rid of the subplot\n",
    "\n",
    "### with seaborn for advanced plots\n",
    "sns.scatterplot(x = 'column1', \n",
    "                y = 'column2', \n",
    "                data = df, \n",
    "               hue = 'column3')        # color the data points based on other variables\n",
    "               "
   ]
  },
  {
   "cell_type": "code",
   "execution_count": null,
   "id": "681fd8b3-ed29-4d59-af1d-ac369e03f6ce",
   "metadata": {},
   "outputs": [],
   "source": [
    "# pairplot, distribution, correlations between each pair of variables\n",
    "sns.pairplot(data = df,\n",
    "             vats = ['x1', 'x2', 'x3'],\n",
    "            hue = 'x4')\n",
    "plt.show()"
   ]
  },
  {
   "cell_type": "code",
   "execution_count": null,
   "id": "b2499b19-3503-4d5b-93db-debb51bd5d60",
   "metadata": {},
   "outputs": [],
   "source": [
    "# correlation \n",
    "corr = df[['x1', 'x2', 'x3']].dropna().corr()\n",
    "sns.heatmap(corr, annot = True)     # get annotations"
   ]
  },
  {
   "cell_type": "markdown",
   "id": "ffa19f0c-40b7-482d-9954-a41e28dcad97",
   "metadata": {},
   "source": [
    "## Data Manipulation Useful for economics data"
   ]
  },
  {
   "cell_type": "code",
   "execution_count": null,
   "id": "4597ba93-4435-4ea1-9e51-cb01c965fc55",
   "metadata": {},
   "outputs": [],
   "source": [
    "# Create a time column\n",
    "time = pd.date_range(start=\"1980/1\", end=\"2025/1\", freq=\"Q\")"
   ]
  },
  {
   "cell_type": "code",
   "execution_count": null,
   "id": "0d1978f1-e4f7-4266-a1fd-2462c29658e0",
   "metadata": {},
   "outputs": [],
   "source": [
    "# for logistic regression: encoding\n",
    "df[\"rank\"].astype(\"category\") "
   ]
  },
  {
   "cell_type": "code",
   "execution_count": null,
   "id": "00ad9734-2825-48db-98cf-1e9469b9f839",
   "metadata": {},
   "outputs": [],
   "source": [
    "# data aggregation \n",
    "\n",
    "# Change/Check data type         \n",
    "chr() # convert to character, string        \n",
    "int() # to integer   \n",
    "type() # check type   \n",
    "\n",
    "# For dataframe\n",
    "df.corr()  # correlation between each pair   "
   ]
  },
  {
   "cell_type": "code",
   "execution_count": null,
   "id": "00ed6412-7603-4465-9eb9-b3703aa207aa",
   "metadata": {},
   "outputs": [],
   "source": [
    "### Seasonality decomposition"
   ]
  },
  {
   "cell_type": "code",
   "execution_count": null,
   "id": "c9cd6c68-d336-4e27-8622-e32d028e6853",
   "metadata": {},
   "outputs": [],
   "source": [
    "# 1) with statsmodel\n",
    "import statsmodels.api as sm\n",
    "result1 = sm.tsa.seasonal_decompose(df,model='additive',period = 4)\n",
    "result1_adjusted = df[\"column\"] - df_res.seasonal\n",
    "\n",
    "# 2) with STL decomposition: LOESS: locally estimated scatterplot smoothing\n",
    "from statsmodels.tsa.seasonal import STL\n",
    "result2 = STL(df1[\"real wage\"], period = 4)  # if it is annual data\n",
    "result2_fit = result21.fit()\n",
    "result2_adjusted = df1[\"real wage\"] - result2_fit.seasonal"
   ]
  },
  {
   "cell_type": "code",
   "execution_count": null,
   "id": "d1af7b51-0def-4b80-aaa8-2a5afb237c95",
   "metadata": {},
   "outputs": [],
   "source": [
    "# Save the dataframe\n",
    "df.to_excel(\"df.xlsx\")"
   ]
  },
  {
   "cell_type": "code",
   "execution_count": null,
   "id": "42df0c5a-ca76-4f05-947c-05b1435b6f34",
   "metadata": {},
   "outputs": [],
   "source": [
    "# Sort data into quarterly mean (.sum())\n",
    "df = df[\"column\"].resample('Q').mean"
   ]
  },
  {
   "cell_type": "code",
   "execution_count": null,
   "id": "647add9a-8f5b-400d-bc61-b883bdd0551b",
   "metadata": {},
   "outputs": [],
   "source": [
    "# Get log difference \n",
    "series_new = np.log(series).diff()\n",
    "\n",
    "# Get percentage change\n",
    "series.pct_change()"
   ]
  },
  {
   "cell_type": "markdown",
   "id": "a1a3fd0e-5267-4e89-9325-5108af7d3d70",
   "metadata": {},
   "source": [
    "## NumPy Operations"
   ]
  },
  {
   "cell_type": "code",
   "execution_count": null,
   "id": "78ea7ada-c4e1-439d-8201-3ea040cefbf1",
   "metadata": {},
   "outputs": [],
   "source": [
    "# Basics in numpy \n",
    "1) 1-d array\n",
    "np.arrange(1,10)       # sequence 1~9   \n",
    "np.linspace(1,20,5)    # equally divide 1-20 to 5 folds   \n",
    "np.zeros(5, dtype=int) # sequence of 0s  \n",
    "np.ones(5, dtype=int)  # sequence of 1s   \n",
    "np.rand(5, dtype=int)  # generate 5 random numbers      "
   ]
  },
  {
   "cell_type": "code",
   "execution_count": null,
   "id": "92a8c9f1-3fd2-42e1-a864-b1381dc4d6a4",
   "metadata": {},
   "outputs": [],
   "source": [
    "2) 2-d matrix  \n",
    "# [row, column]   \n",
    "np.zeros([4,3], dtype = np.int)  "
   ]
  },
  {
   "cell_type": "code",
   "execution_count": null,
   "id": "3d1bf6db-56be-4d07-bafc-6221bfa2c9b3",
   "metadata": {},
   "outputs": [],
   "source": [
    "3) properties: size(# in the sequence,matrices; length; shape: datatype)　　   \n",
    "array.size        \n",
    "len(array)         \n",
    "array.shape     # returns a tuple with # of elements in each dimension　　　  \n",
    "array.dtype     # check array data type, character, string cannot be used　         \n",
    "array.astype(float64)  # convert to datatype: float, int, bool　　   "
   ]
  },
  {
   "cell_type": "code",
   "execution_count": null,
   "id": "9e46a470-2f7e-4a88-ae3b-514811bfb13e",
   "metadata": {},
   "outputs": [],
   "source": [
    "4) sorting　　  \n",
    "array.sort()          \n",
    "np.sort(array, axis = 0)     # 2-d array, based on first axis     \n",
    "np.sort(array, axis = -1)    # last axis     \n",
    "np.sort(array, axis = None) # no axis, all elements     "
   ]
  },
  {
   "cell_type": "code",
   "execution_count": null,
   "id": "cdf60fc1-dd04-4640-af40-848ec61765c2",
   "metadata": {},
   "outputs": [],
   "source": [
    "5) manipulation     \n",
    "np.append(array,[9])        # add at the end 1-d array    \n",
    "np.delete(array, object)    # delete an 1-d element    \n",
    "np.reshape(n,m)     \n",
    "array.reshape((12))       "
   ]
  },
  {
   "cell_type": "code",
   "execution_count": null,
   "id": "8e9ac29d-016e-4d7d-9b5a-d1f2bfe364c5",
   "metadata": {},
   "outputs": [],
   "source": [
    "6) combine/split operation    \n",
    "np.concatenate((arr1, arr2), axis = 0)    \n",
    "np.split(arr,3,1)    # np.hsplit(); np.vsplit()    "
   ]
  },
  {
   "cell_type": "code",
   "execution_count": null,
   "id": "b81790c5-fd00-4673-a79e-fbf3c75a1b51",
   "metadata": {},
   "outputs": [],
   "source": [
    "7) mathematical, \n",
    "np.add(arr1, arr2)  \n",
    "np.subtract(arr1, arr2)   \n",
    "np.multiply(arr1, arr2)  \n",
    "np.divide(arr1, arr2)   \n",
    "np.power(arr1, arr2)  \n",
    "np.exp(arr1)   \n",
    "np.sqrt(arr1)    \n",
    "np.log(arr1)   \n",
    "np.absolute(arr1)  \n",
    "np.round(arr1, 3)    # round to 3 digits  "
   ]
  },
  {
   "cell_type": "code",
   "execution_count": null,
   "id": "5717ef06-62d5-4a64-944e-a7b67732a3a0",
   "metadata": {},
   "outputs": [],
   "source": [
    "8) statistics, relate to the df operation! \n",
    "np.mean(arr1)  \n",
    "np.sum(arr1)   \n",
    "np.max(arr1)  \n",
    "np.min(arr1)  \n",
    "np.var(arr1)  \n",
    "np.std(arr1)  \n",
    "np.corrcoef(arr1,arr2)  # correlation coefficient"
   ]
  },
  {
   "cell_type": "code",
   "execution_count": null,
   "id": "50692362-73e6-4fc9-a7d6-4496cbd43b4f",
   "metadata": {},
   "outputs": [],
   "source": []
  }
 ],
 "metadata": {
  "kernelspec": {
   "display_name": "Python 3 (ipykernel)",
   "language": "python",
   "name": "python3"
  },
  "language_info": {
   "codemirror_mode": {
    "name": "ipython",
    "version": 3
   },
   "file_extension": ".py",
   "mimetype": "text/x-python",
   "name": "python",
   "nbconvert_exporter": "python",
   "pygments_lexer": "ipython3",
   "version": "3.11.4"
  }
 },
 "nbformat": 4,
 "nbformat_minor": 5
}
